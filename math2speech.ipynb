{
 "cells": [
  {
   "cell_type": "code",
   "execution_count": 33,
   "id": "4fd66719-352d-4a9a-95d5-61110946aa51",
   "metadata": {},
   "outputs": [],
   "source": [
    "import Cadenas as cadenas\n",
    "from gtts import gTTS"
   ]
  },
  {
   "cell_type": "markdown",
   "id": "6423b107-1910-4d84-b3d1-cf61f19c14c0",
   "metadata": {},
   "source": [
    "# Clase Math2Speech\n",
    "\n",
    "\n",
    "## Funcion obten_cadena\n",
    "        \n",
    "Argumentos: \n",
    "\n",
    "1. index: Indice donde se comienza el recorrido del arbol.\n",
    "2. tree: El arbol a recorrer\n",
    "3. cadena: Cadena que se va armando\n",
    "\n",
    "Funcionamiento:\n",
    "    \n",
    "    Esta funcion se encarga de recorrer el arbol en cuestion, se obtienen las cadenas de texto de cada uno de los hijos\n",
    "    y se ordenan de la siguiente manera dependiendo el caso:\n",
    "        Cuando la cadena incluye tangente,seno, coseno, etc: Nodo actual, Cadena del hijo izquierdo, Cadena del hijo derecho\n",
    "        En los demas casos: Cadena del hijo izquierdo, Nodo actual, Cadena del hijo derecho\n",
    "        \n",
    "\n",
    "## Funcion simbolo_a_texto\n",
    "Argumentos: \n",
    "1. valor: Valor requerido para convertir en texto.\n",
    "\n",
    "Funcionamiento:\n",
    "    \n",
    "    Esta funcion se encarga de convertir los simbolos en texto para:\n",
    "        Cuando la cadena incluye tangente,seno, coseno, etc: Nodo actual, Cadena del hijo izquierdo, Cadena del hijo derecho\n",
    "        En los demas casos: Cadena del hijo izquierdo, Nodo actual, Cadena del hijo derecho\n",
    "\n",
    "\n",
    "## Funcion obten_cadena\n",
    "Argumentos: \n",
    "1. index: Indice donde se comienza a trabajar\n",
    "2. tree: Arbol que se recorre para transformar a texto\n",
    "3. cadena: Cadena acumulada y resultante\n",
    "\n",
    "Funcionamiento:\n",
    "    \n",
    "    Esta funcion se encarga de recorrer el arbol de forma recursiva viajando desde el hijo mas izquierdo y organizando los resultados de la siguiente manera:\n",
    "    hijo izquierdo + nodo + hijo derecho\n",
    "    Esta regla siempre se cumple a menos de que se encuentren funciones matematicas, caso contrario se estructura de la siguiente manera\n",
    "    nodo + hijo izquierdo + hijo derecho\n",
    "    \n",
    "    Al terminar se regresa la cadena resultante.\n"
   ]
  },
  {
   "cell_type": "code",
   "execution_count": 12,
   "id": "00953e13-5d0a-40fb-a796-aa2a6a91bbac",
   "metadata": {},
   "outputs": [],
   "source": [
    "class math2speech:\n",
    "    exponentes = None\n",
    "    simbolos = None\n",
    "    funciones = None\n",
    "    lenguaje = None\n",
    "    \n",
    "    def __init__(self,exponentes=None,simbolos=None,funciones=None,lenguaje='es'):\n",
    "        self.exponentes = {\n",
    "            2: 'AL CUADRADO',\n",
    "            3: 'AL CUBO',\n",
    "            4: 'A LA CUARTA POTENCIA',\n",
    "            5: 'A LA QUINTA POTENCIA',\n",
    "            6: 'A LA SEXTA POTENCIA',\n",
    "            7: 'A LA SEPTIMA POTENCIA',\n",
    "            8: 'A LA OCTAVA POTENCIA',\n",
    "            9: 'A LA NOVENA POTENCIA',\n",
    "        } if not exponentes else exponentes\n",
    "        \n",
    "        self.simbolos = {\n",
    "            '*':'por',\n",
    "            '+':'mas',\n",
    "            '/':'entre',\n",
    "            '-':'menos',\n",
    "            'tan': 'tangente de',\n",
    "            'cos': 'coseno de',\n",
    "            'sin': 'seno de',\n",
    "            'atan': 'arcotangente de',\n",
    "            'asin': 'arcoseno de',\n",
    "            'acos': 'arcocoseno de',\n",
    "            'sqrt': 'raiz cuadrada de',\n",
    "            'cot': 'cotangente de',\n",
    "            'csc': 'cosecante de',\n",
    "            'sec': 'secante de',\n",
    "            'exp': 'exponencial de',\n",
    "            'ln': 'logaritmo natural de',\n",
    "            'log': 'logaritmo de'\n",
    "        } if not simbolos else simbolos\n",
    "        self.funciones = ['atan','asin','acos','sqrt','sin','cos',\n",
    "                          'tan','cot','csc','sec','exp','ln','log'] if not funciones else funciones\n",
    "        self.lenguaje = 'es' if not lenguaje else lenguaje\n",
    "        \n",
    "    def procesaCadena(self,ltx,symbs):\n",
    "        if not ltx or not symbs:\n",
    "            return\n",
    "        data = cadenas.valida_ltx(ltx, symbs, self.funciones)\n",
    "        cadena = data['cad']\n",
    "        cadena_ajustada = cadenas.ajusta_cadena(cadena,symbs) #procesa la cadena\n",
    "        arbol = cadenas.cad2tree(cadena_ajustada)\n",
    "        expresion = cadenas.tree2expr(arbol,0,symbs)\n",
    "        return { 'arbol':arbol,'expresion':expresion}\n",
    "    \n",
    "   \n",
    "    def simbolo_a_texto(self,valor):\n",
    "        if not valor or valor == '0':\n",
    "            return  ''\n",
    "        if valor in self.simbolos.keys():\n",
    "            return self.simbolos[valor]\n",
    "        if '^' in valor:\n",
    "            valor_n = valor.replace('^(','')\n",
    "            valor_n = valor_n.replace(')','')\n",
    "            return f'{self.exponentes[int(valor_n)]}'\n",
    "        else:\n",
    "            return valor\n",
    "                \n",
    "\n",
    "    def obtenCadena(self,index=0,tree=None,cadena=''):\n",
    "        if not index and index!=0:\n",
    "            raise Exception('Se requiere el indice a empezar en el arbol')\n",
    "        if not tree:\n",
    "            raise Exception(\"Se requiere el arbol a recorrer\")\n",
    "        if index > len(tree):\n",
    "            raise Exception(\"El indice debe ser menor a la longitud del arbol\")\n",
    "        nodo = tree[index]\n",
    "        izq = ''\n",
    "        der = ''\n",
    "        if nodo.get('ind_h1',None):\n",
    "            izq = self.obtenCadena(index=nodo['ind_h1'],tree=tree,cadena=cadena)\n",
    "        centro = self.simbolo_a_texto(tree[index]['val'])\n",
    "        if nodo.get('ind_h2',None):\n",
    "            der = self.obtenCadena(index=nodo['ind_h2'],tree=tree,cadena=cadena)\n",
    "\n",
    "        cadena = f'{izq} {centro} {der}' if not nodo['val'] in self.funciones else f'{centro} {izq} {der}'\n",
    "        return cadena\n",
    "    \n",
    "    def generaAudio(self,cadena,filename='math2speech.mp3'):\n",
    "        voz = gTTS(text=cadena,lang=self.lenguaje,slow=False)\n",
    "        voz.save(filename)\n",
    "        return\n",
    "    \n",
    "    def procesoCompleto(self,ltx=None,variables=None,filename='math2speech.mp3'):\n",
    "        if not ltx:\n",
    "            raise Exception('Es necesario la cadena latex')\n",
    "        if not variables:\n",
    "            raise Exception('Es necesario la lista de variables')\n",
    "        datos = self.procesaCadena(ltx,variables)\n",
    "        cadena = self.obtenCadena(0,datos['arbol'])\n",
    "        self.generaAudio(cadena,filename)"
   ]
  },
  {
   "cell_type": "markdown",
   "id": "ebb6f682-a443-48ad-81ed-011ee972a49f",
   "metadata": {},
   "source": [
    " ## Transformando formulas matematicas a voz\n",
    " \n",
    " $$-\\frac{425 {\\left(x^{2} \\right)}}{3} - \\frac{4}{3}$$"
   ]
  },
  {
   "cell_type": "code",
   "execution_count": 16,
   "id": "ce48caea-3cfb-49c9-b351-057196240b1c",
   "metadata": {},
   "outputs": [],
   "source": [
    "math = math2speech()\n",
    "ltx = \"-\\\\frac{425 \\\\exp^{2}{\\\\left(x \\\\right)}}{3} - \\\\frac{4}{3}\"\n",
    "math.procesoCompleto(ltx,variables=['x','y'],filename='cadena.mp3')"
   ]
  },
  {
   "cell_type": "markdown",
   "id": "3ec9eedb-9165-4c43-b189-a47b34f1aea6",
   "metadata": {},
   "source": [
    "$$ 2\\sin{2x^2} $$"
   ]
  },
  {
   "cell_type": "code",
   "execution_count": 22,
   "id": "f09fd04c-8407-48d3-b5d1-c8d8e418e6da",
   "metadata": {},
   "outputs": [],
   "source": [
    "ltx = \"2\\sin{2x^{2}}\"\n",
    "math.procesoCompleto(ltx,variables=['x'],filename='cadena2.mp3')"
   ]
  },
  {
   "cell_type": "markdown",
   "id": "3a2d5f61-4e5d-4099-adab-a9c1be64560c",
   "metadata": {},
   "source": [
    "$$ 2\\ln{2x^2} $$"
   ]
  },
  {
   "cell_type": "code",
   "execution_count": 24,
   "id": "51d88d9a-3576-4cca-8d14-a29b4b09d0fc",
   "metadata": {},
   "outputs": [],
   "source": [
    "ltx = \"2\\ln{2x^{2}}\"\n",
    "math.procesoCompleto(ltx,variables=['x'],filename='cadena_3.mp3')"
   ]
  },
  {
   "cell_type": "markdown",
   "id": "4f6680e7-40d8-4ac7-8bd6-60f80e81cae0",
   "metadata": {},
   "source": [
    "$$ \\frac{ax +b}{c} + \\frac{dy-c}{a} $$"
   ]
  },
  {
   "cell_type": "code",
   "execution_count": 32,
   "id": "65314bde-b9d6-45a7-8218-9602b5aa8b57",
   "metadata": {},
   "outputs": [],
   "source": [
    "ltx = \"\\\\frac{ax +b}{c} + \\\\frac{dy-c}{a}\"\n",
    "math.procesoCompleto(ltx,variables=['ax','dy','a','b','c','d'],filename='cadena_4.mp3')"
   ]
  }
 ],
 "metadata": {
  "kernelspec": {
   "display_name": "Python 3",
   "language": "python",
   "name": "python3"
  },
  "language_info": {
   "codemirror_mode": {
    "name": "ipython",
    "version": 3
   },
   "file_extension": ".py",
   "mimetype": "text/x-python",
   "name": "python",
   "nbconvert_exporter": "python",
   "pygments_lexer": "ipython3",
   "version": "3.6.13"
  }
 },
 "nbformat": 4,
 "nbformat_minor": 5
}
